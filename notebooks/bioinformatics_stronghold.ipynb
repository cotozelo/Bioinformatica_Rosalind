{
  "nbformat": 4,
  "nbformat_minor": 0,
  "metadata": {
    "colab": {
      "name": "bioinformatics_stronghold.ipynb",
      "provenance": [],
      "toc_visible": true,
      "authorship_tag": "ABX9TyMPwR5slzMFlQtrRxfSDQJR",
      "include_colab_link": true
    },
    "kernelspec": {
      "name": "python3",
      "display_name": "Python 3"
    },
    "language_info": {
      "name": "python"
    }
  },
  "cells": [
    {
      "cell_type": "markdown",
      "metadata": {
        "id": "view-in-github",
        "colab_type": "text"
      },
      "source": [
        "<a href=\"https://colab.research.google.com/github/cotozelo/rosalind_problems/blob/main/notebooks/bioinformatics_stronghold.ipynb\" target=\"_parent\"><img src=\"https://colab.research.google.com/assets/colab-badge.svg\" alt=\"Open In Colab\"/></a>"
      ]
    },
    {
      "cell_type": "markdown",
      "metadata": {
        "id": "c82uxA9X34t-"
      },
      "source": [
        "# Bioinformatics Stronghold <a href='http://rosalind.info/problems/tree-view/'>[ref.]</a>\n"
      ]
    },
    {
      "cell_type": "markdown",
      "metadata": {
        "id": "-_vIm-834PnH"
      },
      "source": [
        "##A Rapid Introduction to Molecular Biology\n",
        "\n",
        "Problem\n",
        "\n",
        "A string is simply an ordered collection of symbols selected from some alphabet and formed into a word; the length of a string is the number of symbols that it contains.\n",
        "\n",
        "An example of a length 21 DNA string (whose alphabet contains the symbols 'A', 'C', 'G', and 'T') is \"ATGCTTCAGAAAGGTCTTACG.\"\n",
        "\n",
        "Given: A DNA string s of length at most 1000 nt.\n",
        "\n",
        "Return: Four integers (separated by spaces) counting the respective number of times that the symbols 'A', 'C', 'G', and 'T' occur in s.\n",
        "\n",
        "Sample Dataset\n",
        "\n",
        "AGCTTTTCATTCTGACTGCAACGGGCAATATGTCTCTGTGTGGATTAAAAAAAGAGTGTCTGATAGCAGC\n",
        "\n",
        "Sample Output\n",
        "\n",
        "20 12 17 21"
      ]
    },
    {
      "cell_type": "code",
      "metadata": {
        "colab": {
          "base_uri": "https://localhost:8080/"
        },
        "id": "vXcipA3232VU",
        "outputId": "db21d455-4d72-4754-c591-1acf55bc165c"
      },
      "source": [
        "s = 'AGCTTTTCATTCTGACTGCAACGGGCAATATGTCTCTGTGTGGATTAAAAAAAGAGTGTCTGATAGCAGC'\n",
        "\n",
        "from collections import Counter\n",
        "\n",
        "def quantidade_nucleotideos(s):\n",
        "  quantidade = Counter(s)\n",
        "  print(f\"{quantidade['A']} {quantidade['C']} {quantidade['G']} {quantidade['T']} \")\n",
        "\n",
        "quantidade_nucleotideos(s)\n",
        "\n",
        "s1 = 'GTTAGGCCCTTGGGTTAGCGAGCCTTAGTAATAGGAGTTCGGATAGGTCGGCAGGGTATGGGGATAACAAAGCGCCTTTGGGTCTAACATGACAGAGGTAGTGATGTTCCTATCGCAGACACTAATAGTGTCGAGCGATGTGCGCCTTGTTAATCGCCCTTCCACACGAGCGCCTAGGTTCTGAAGTTGTACTTTCGCGCTAACAGGTAACAAGTGTTGGATTAACGAGTGCGTCTGAGAACGCTGCTCGCGCTGATCTCACAGCCGCGACCCTCAAAGAACCTCTGCGGGTTTTGCCCACACTTCTGATCCGAACTAAGCTCAGGAAGCAAAATGTATAATGCTATTTATCTACAAATTATATCCTCATCGGTCATTTCGGTCCCGTTAACTCCATTTCAGGACCGCGAATCCTTCAGAAAGGCGAAGTGATTAAGGATGGTGCTTATAATTGTCGCACGACTCGCGACGTCACTTCTGAGCTTACCAGGAGAAGTCCATATGTGGACGTCACGAGCGCCGACCCGCCATTGATCCGCGCGTCTCCGGTAAGCGGCTTTCTAACCTATATCACGACTCCGTTCTAAGGAGAGGGTTGCGTTTCATGGCAGCAATTCTCGTACTGAAAGCAGTGTACGAATTACAGTAAGATGCATAACCAATGCAAACCCGCAGCAAGACGGGAATGCAACCAAAGGGAGGGCTCCGGAGGAATGCGGTTCCGAACATGGTCCGGACCGCGATAACTTGGGATTATAGCTTTGAGGAATGTGCTCAGAACACCCCGGACACGCTCTCCTCTGGATTGCGTACTGGGTTGACCT'\n",
        "quantidade_nucleotideos(s1)"
      ],
      "execution_count": 4,
      "outputs": [
        {
          "output_type": "stream",
          "text": [
            "20 12 17 21 \n",
            "206 203 215 200 \n"
          ],
          "name": "stdout"
        }
      ]
    },
    {
      "cell_type": "markdown",
      "metadata": {
        "id": "7Sbas0AZ5quu"
      },
      "source": [
        "##The Second Nucleic Acid\n",
        "\n",
        "Problem\n",
        "\n",
        "An RNA string is a string formed from the alphabet containing 'A', 'C', 'G', and 'U'.\n",
        "\n",
        "Given a DNA string t corresponding to a coding strand, its transcribed RNA string u is formed by replacing all occurrences of 'T' in t with 'U' in u.\n",
        "\n",
        "Given: A DNA string t having length at most 1000 nt.\n",
        "\n",
        "Return: The transcribed RNA string of t.\n",
        "\n",
        "Sample Dataset\n",
        "\n",
        "GATGGAACTTGACTACGTAAATT\n",
        "\n",
        "Sample Output\n",
        "\n",
        "GAUGGAACUUGACUACGUAAAUU"
      ]
    },
    {
      "cell_type": "code",
      "metadata": {
        "colab": {
          "base_uri": "https://localhost:8080/"
        },
        "id": "O7rzf3lh5wqu",
        "outputId": "ddf699ec-4bf2-4525-ba59-50f88535e065"
      },
      "source": [
        "dna_s = 'CCAGAAAGGCCGCGTCGCAAAAGAATACATATCATTTAACGTTGTGACTGTGTTTAGCGAAACATGTTCTTTCGTATAGTTGCCCACGCGCTCCTTTGGCCTCCGCGGGAAGACATTACCGAGCGAACTCACACTAGGATACCTGATCACTGGAATCGTGATCACGTACAGTGATCGACGGCTCCCCATGCGCTTCCAATTGACCACACAGCTGTTCTTGTAAGTCTTCGCGGCTCTACGCTTGACTATCCGACTGAGACCATAATGCGTCCCGCTCTCATAACCCTTATATGGAGGTCCACTACTCAATGTCTTGTTTCCATGTTGTGAAGATCCGCGACGTCGTTAAAATCCCGATGGATAGGTCACACTGCGTTGCAGGCGGCGACTCCTCCGTCTGTGCCTGTCCGAGGATTTCACATCCACCGTCGGTGTCAAATCCGGCCATAGCGAAAGGGGCAATGTGGTTGGTCTGAGCATCTGGCACCCTTAAACACGCTCTGGCATGGATCCCGAATGTGGTTCGAGTGCGCGGCGTAGTGGCAAAGAATCACCTCGGTCCGGAACGTACCCGGCCAGTCAAGAGTTGAAGCGTCCTCCTTCCCAGTTCTGGATGACGCTCTATGACAACAAGACGCTGGTGTATCATCCCTCGCGCACACCTAAGGCTACTGCCGCGATTGTAGACTGGCGCCAATACAGGTTCGACTTGTGGGAATATTGCGTGACGGAAAGCGATGTGCGTCAGATCCGTGTCGCTCTCGGTGCTTATCGGGGTTTTAGGCAACGTTAATCACGGTTAAGCTCAAACGTGAGACCAATGAGCGGAGACCTACTCGAAGAATCTAGCTAGCGCACCGCCAAGCGTCCTGCCCAAGCGAGAATAGTATTGCAAGCCCCTAGAAGGCTGAGGATTTTCTCGGGTA'\n",
        "\n",
        "rna_s = dna_s.replace('T', 'U')\n",
        "print(rna_s)"
      ],
      "execution_count": 7,
      "outputs": [
        {
          "output_type": "stream",
          "text": [
            "CCAGAAAGGCCGCGUCGCAAAAGAAUACAUAUCAUUUAACGUUGUGACUGUGUUUAGCGAAACAUGUUCUUUCGUAUAGUUGCCCACGCGCUCCUUUGGCCUCCGCGGGAAGACAUUACCGAGCGAACUCACACUAGGAUACCUGAUCACUGGAAUCGUGAUCACGUACAGUGAUCGACGGCUCCCCAUGCGCUUCCAAUUGACCACACAGCUGUUCUUGUAAGUCUUCGCGGCUCUACGCUUGACUAUCCGACUGAGACCAUAAUGCGUCCCGCUCUCAUAACCCUUAUAUGGAGGUCCACUACUCAAUGUCUUGUUUCCAUGUUGUGAAGAUCCGCGACGUCGUUAAAAUCCCGAUGGAUAGGUCACACUGCGUUGCAGGCGGCGACUCCUCCGUCUGUGCCUGUCCGAGGAUUUCACAUCCACCGUCGGUGUCAAAUCCGGCCAUAGCGAAAGGGGCAAUGUGGUUGGUCUGAGCAUCUGGCACCCUUAAACACGCUCUGGCAUGGAUCCCGAAUGUGGUUCGAGUGCGCGGCGUAGUGGCAAAGAAUCACCUCGGUCCGGAACGUACCCGGCCAGUCAAGAGUUGAAGCGUCCUCCUUCCCAGUUCUGGAUGACGCUCUAUGACAACAAGACGCUGGUGUAUCAUCCCUCGCGCACACCUAAGGCUACUGCCGCGAUUGUAGACUGGCGCCAAUACAGGUUCGACUUGUGGGAAUAUUGCGUGACGGAAAGCGAUGUGCGUCAGAUCCGUGUCGCUCUCGGUGCUUAUCGGGGUUUUAGGCAACGUUAAUCACGGUUAAGCUCAAACGUGAGACCAAUGAGCGGAGACCUACUCGAAGAAUCUAGCUAGCGCACCGCCAAGCGUCCUGCCCAAGCGAGAAUAGUAUUGCAAGCCCCUAGAAGGCUGAGGAUUUUCUCGGGUA\n"
          ],
          "name": "stdout"
        }
      ]
    },
    {
      "cell_type": "markdown",
      "metadata": {
        "id": "eiM11ykc6bgu"
      },
      "source": [
        "##The Secondary and Tertiary Structures of DNA\n",
        "\n",
        "Problem\n",
        "\n",
        "In DNA strings, symbols 'A' and 'T' are complements of each other, as are 'C' and 'G'.\n",
        "\n",
        "The reverse complement of a DNA string s is the string sc formed by reversing the symbols of s, then taking the complement of each symbol (e.g., the reverse complement of \"GTCA\" is \"TGAC\").\n",
        "\n",
        "Given: A DNA string s of length at most 1000 bp.\n",
        "\n",
        "Return: The reverse complement sc of s.\n",
        "\n",
        "Sample Dataset\n",
        "\n",
        "AAAACCCGGT\n",
        "\n",
        "Sample Output\n",
        "\n",
        "ACCGGGTTTT"
      ]
    },
    {
      "cell_type": "code",
      "metadata": {
        "colab": {
          "base_uri": "https://localhost:8080/",
          "height": 136
        },
        "id": "39rD2nHS6gfe",
        "outputId": "3d24c668-29b8-44f5-8e79-581a728d4943"
      },
      "source": [
        "dna_s = 'AAAACCCGGT'\n",
        "\n",
        "def dna_to_rna(dna_s):\n",
        "  transcricao = {\"A\": \"T\", \"C\": \"G\", \"G\": \"C\", \"T\":\"A\"}\n",
        "  return dna_s.translate(str.maketrans(transcricao))[::-1]\n",
        "\n",
        "dna_to_rna(dna_s)\n",
        "\n",
        "dna_s1 = 'ACTGCAACAACGTTGTCCAGTGTCATAACCGGCAAATACAAGGAGCTAAGCGTGGTCGTATAAAATCTTGGGCTTCGCGCTCGCGATAATTAATAGTGGATCGAGTACTTGCTGTAATGCCGAAAGACAAGTTGGCGTTGCTCCCATTCGGGAGCAGTATTTCCCCCACAAATTATCTTCCTCTTGACCCTGGACGCCCTAGTGTAACCAGTTAATGACATGTCAGGCACTGCTTACTTTAATACTAGGTCAGTTCCTGTCTATCCCGCTGTCTATGTGGAGTACGAAACAGCTTAGTATCGCTAAGCGCAACCCGCTTGGTTGGCGTGGGCACCGAATTTGTCCGTTTGAGTCGATTCGGCGGCGCGTAACGGGATGAAATATATTACTCCTGCCAACAAGCCCGGCAACGGGCTCAGTGCGTGAATCATTTGCGTGTAATGGCCTTAAATCCATCTCCCGACCACTATTATGTCAAGCAAACCCACATTCCCCGATTCTGTGAGTAAGACTCGTCTCGATCAAAGCCAGGAGCAGGGTAGATGCATGGATCAAAAACCCATACTAACTTACTAGGCCTGGACTGGCTAATGCAGTCATAAGTCCCTCATCGCCACCATGAATTTCGACTTACTATCCCCACGTAAGGGTCTCTATAGAGTCTCGAAAACGCCATGAACATCAGCGGATACGCACACAACGGACAGTGAAAAGACGTCACGCACCAAACTTGCTCTGCGTTATACTTGACCTTGACCCTACAGAAGATGAAAGCCCCCTAAGAGGATGGCTAATCCGGCGAATATTGTAACGATGATCTCCTTGCTTTTAATGTGCCATCACTTGCAACTGGTGGCAACTTATATAGTAGTGAG'\n",
        "dna_to_rna(dna_s=dna_s1)"
      ],
      "execution_count": 13,
      "outputs": [
        {
          "output_type": "execute_result",
          "data": {
            "application/vnd.google.colaboratory.intrinsic+json": {
              "type": "string"
            },
            "text/plain": [
              "'CTCACTACTATATAAGTTGCCACCAGTTGCAAGTGATGGCACATTAAAAGCAAGGAGATCATCGTTACAATATTCGCCGGATTAGCCATCCTCTTAGGGGGCTTTCATCTTCTGTAGGGTCAAGGTCAAGTATAACGCAGAGCAAGTTTGGTGCGTGACGTCTTTTCACTGTCCGTTGTGTGCGTATCCGCTGATGTTCATGGCGTTTTCGAGACTCTATAGAGACCCTTACGTGGGGATAGTAAGTCGAAATTCATGGTGGCGATGAGGGACTTATGACTGCATTAGCCAGTCCAGGCCTAGTAAGTTAGTATGGGTTTTTGATCCATGCATCTACCCTGCTCCTGGCTTTGATCGAGACGAGTCTTACTCACAGAATCGGGGAATGTGGGTTTGCTTGACATAATAGTGGTCGGGAGATGGATTTAAGGCCATTACACGCAAATGATTCACGCACTGAGCCCGTTGCCGGGCTTGTTGGCAGGAGTAATATATTTCATCCCGTTACGCGCCGCCGAATCGACTCAAACGGACAAATTCGGTGCCCACGCCAACCAAGCGGGTTGCGCTTAGCGATACTAAGCTGTTTCGTACTCCACATAGACAGCGGGATAGACAGGAACTGACCTAGTATTAAAGTAAGCAGTGCCTGACATGTCATTAACTGGTTACACTAGGGCGTCCAGGGTCAAGAGGAAGATAATTTGTGGGGGAAATACTGCTCCCGAATGGGAGCAACGCCAACTTGTCTTTCGGCATTACAGCAAGTACTCGATCCACTATTAATTATCGCGAGCGCGAAGCCCAAGATTTTATACGACCACGCTTAGCTCCTTGTATTTGCCGGTTATGACACTGGACAACGTTGTTGCAGT'"
            ]
          },
          "metadata": {
            "tags": []
          },
          "execution_count": 13
        }
      ]
    },
    {
      "cell_type": "markdown",
      "metadata": {
        "id": "HCUq_685_ER1"
      },
      "source": [
        "##Wascally Wabbits\n",
        "\n",
        "Problem\n",
        "\n",
        "A sequence is an ordered collection of objects (usually numbers), which are allowed to repeat. Sequences can be finite or infinite. Two examples are the finite sequence (π,−2–√,0,π) and the infinite sequence of odd numbers (1,3,5,7,9,…). We use the notation an to represent the n-th term of a sequence.\n",
        "\n",
        "A recurrence relation is a way of defining the terms of a sequence with respect to the values of previous terms. In the case of Fibonacci's rabbits from the introduction, any given month will contain the rabbits that were alive the previous month, plus any new offspring. A key observation is that the number of offspring in any month is equal to the number of rabbits that were alive two months prior. As a result, if Fn represents the number of rabbit pairs alive after the n-th month, then we obtain the Fibonacci sequence having terms Fn that are defined by the recurrence relation Fn=Fn−1+Fn−2 (with F1=F2=1 to initiate the sequence). Although the sequence bears Fibonacci's name, it was known to Indian mathematicians over two millennia ago.\n",
        "\n",
        "When finding the n-th term of a sequence defined by a recurrence relation, we can simply use the recurrence relation to generate terms for progressively larger values of n. This problem introduces us to the computational technique of dynamic programming, which successively builds up solutions by using the answers to smaller cases.\n",
        "\n",
        "Given: Positive integers n≤40 and k≤5.\n",
        "\n",
        "Return: The total number of rabbit pairs that will be present after n months, if we begin with 1 pair and in each generation, every pair of reproduction-age rabbits produces a litter of k rabbit pairs (instead of only 1 pair).\n",
        "\n",
        "Sample Dataset\n",
        "\n",
        "5 3\n",
        "\n",
        "Sample Output\n",
        "\n",
        "19"
      ]
    },
    {
      "cell_type": "code",
      "metadata": {
        "colab": {
          "base_uri": "https://localhost:8080/"
        },
        "id": "P6KCp6th_N8s",
        "outputId": "cc74b936-e0ef-4528-d38b-b81821e20c39"
      },
      "source": [
        "n = 5\n",
        "k = 3\n",
        "\n",
        "def reproducao(meses, filhos):\n",
        "  f = [1, 1]\n",
        "  for i in range(2, meses):\n",
        "    f.append(f[i-2]*filhos + f[i-1])\n",
        "  return f[-1]\n",
        "\n",
        "print(reproducao(5, 3))\n",
        "\n",
        "print(reproducao(36, 3))"
      ],
      "execution_count": 7,
      "outputs": [
        {
          "output_type": "stream",
          "text": [
            "19\n",
            "3048504677680\n"
          ],
          "name": "stdout"
        }
      ]
    },
    {
      "cell_type": "markdown",
      "metadata": {
        "id": "ZAA6su_oqid7"
      },
      "source": [
        "##<a href='http://rosalind.info/problems/gc/'>Identifying Unknown DNA Quickly</a>\n",
        "\n",
        "Problem\n",
        "\n",
        "The GC-content of a DNA string is given by the percentage of symbols in the string that are 'C' or 'G'. For example, the GC-content of \"AGCTATAG\" is 37.5%. Note that the reverse complement of any DNA string has the same GC-content.\n",
        "\n",
        "DNA strings must be labeled when they are consolidated into a database. A commonly used method of string labeling is called FASTA format. In this format, the string is introduced by a line that begins with '>', followed by some labeling information. Subsequent lines contain the string itself; the first line to begin with '>' indicates the label of the next string.\n",
        "\n",
        "In Rosalind's implementation, a string in FASTA format will be labeled by the ID \"Rosalind_xxxx\", where \"xxxx\" denotes a four-digit code between 0000 and 9999.\n",
        "\n",
        "Given: At most 10 DNA strings in FASTA format (of length at most 1 kbp each).\n",
        "\n",
        "Return: The ID of the string having the highest GC-content, followed by the GC-content of that string. Rosalind allows for a default error of 0.001 in all decimal answers unless otherwise stated; please see the note on absolute error below.\n",
        "\n",
        "Sample Dataset\n",
        "\n",
        ">Rosalind_6404\n",
        "\n",
        "CCTGCGGAAGATCGGCACTAGAATAGCCAGAACCGTTTCTCTGAGGCTTCCGGCCTTCCC\n",
        "TCCCACTAATAATTCTGAGG\n",
        "\n",
        ">Rosalind_5959\n",
        "\n",
        "CCATCGGTAGCGCATCCTTAGTCCAATTAAGTCCCTATCCAGGCGCTCCGCCGAAGGTCT\n",
        "ATATCCATTTGTCAGCAGACACGC\n",
        "\n",
        ">Rosalind_0808\n",
        "\n",
        "CCACCCTCGTGGTATGGCTAGGCATTCAGGAACCGGAGAACGCTTCAGACCAGCCCGGAC\n",
        "TGGGAACCTGCGGGCAGTAGGTGGAAT\n",
        "\n",
        "Sample Output\n",
        "\n",
        "Rosalind_0808\n",
        "\n",
        "60.919540"
      ]
    },
    {
      "cell_type": "code",
      "metadata": {
        "colab": {
          "base_uri": "https://localhost:8080/"
        },
        "id": "K1CqrqsYqvU7",
        "outputId": "698e45f2-9cad-4d00-9af5-2b551d86472c"
      },
      "source": [
        "from collections import Counter\n",
        "dna_s = {'Rosalind_6404': 'CCTGCGGAAGATCGGCACTAGAATAGCCAGAACCGTTTCTCTGAGGCTTCCGGCCTTCCCTCCCACTAATAATTCTGAGG'}\n",
        "dna_s['Rosalind_5959'] = 'CCATCGGTAGCGCATCCTTAGTCCAATTAAGTCCCTATCCAGGCGCTCCGCCGAAGGTCTATATCCATTTGTCAGCAGACACGC'\n",
        "dna_s['Rosalind_0808'] = 'CCACCCTCGTGGTATGGCTAGGCATTCAGGAACCGGAGAACGCTTCAGACCAGCCCGGACTGGGAACCTGCGGGCAGTAGGTGGAAT'\n",
        "#60.919540\n",
        "\n",
        "def percentual_cg(dna_seq): \n",
        "  qtd = Counter(dna_seq)\n",
        "\n",
        "  return 100*(qtd['C']+qtd['G'])/(qtd['C']+qtd['G']+qtd['A']+qtd['T'])\n",
        "\n",
        "print(percentual_cg(dna_s['Rosalind_6404']))\n",
        "print(percentual_cg(dna_s['Rosalind_5959']))\n",
        "print(percentual_cg(dna_s['Rosalind_0808']))\n",
        "\n",
        "dna_s = {}\n",
        "path_arquivo = 'rosalind_gc.txt'\n",
        "with open(path_arquivo, \"r\") as f:  \n",
        "  sequencia = ''\n",
        "  for linha in f:\n",
        "    if '>' in linha:\n",
        "      sequencia = linha.replace('>', '').strip()\n",
        "      dna_s[sequencia] = ''\n",
        "    else:\n",
        "      dna_s[sequencia] += linha.strip()\n",
        "\n",
        "maior_valor = 0\n",
        "maior_nome = ''\n",
        "for k, v in dna_s.items():\n",
        "  if percentual_cg(v) > maior_valor:\n",
        "    maior_valor = percentual_cg(v)\n",
        "    maior_nome = k\n",
        "\n",
        "print(maior_nome)\n",
        "print(f'{maior_valor:.6f}')"
      ],
      "execution_count": 26,
      "outputs": [
        {
          "output_type": "stream",
          "text": [
            "53.75\n",
            "53.57142857142857\n",
            "60.91954022988506\n",
            "Rosalind_2868\n",
            "52.796421\n"
          ],
          "name": "stdout"
        }
      ]
    }
  ]
}