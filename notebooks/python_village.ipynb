{
  "nbformat": 4,
  "nbformat_minor": 0,
  "metadata": {
    "colab": {
      "name": "python-village.ipynb",
      "provenance": [],
      "authorship_tag": "ABX9TyMCg3XIDtXhHBipVLawFauF",
      "include_colab_link": true
    },
    "kernelspec": {
      "name": "python3",
      "display_name": "Python 3"
    },
    "language_info": {
      "name": "python"
    }
  },
  "cells": [
    {
      "cell_type": "markdown",
      "metadata": {
        "id": "view-in-github",
        "colab_type": "text"
      },
      "source": [
        "<a href=\"https://colab.research.google.com/github/cotozelo/rosalind_problems/blob/main/notebooks/python_village.ipynb\" target=\"_parent\"><img src=\"https://colab.research.google.com/assets/colab-badge.svg\" alt=\"Open In Colab\"/></a>"
      ]
    },
    {
      "cell_type": "markdown",
      "metadata": {
        "id": "BiLZ3mFHUPPw"
      },
      "source": [
        "# Rosalind <a href=\"http://rosalind.info/\">[ref.]</a>\n",
        "\n",
        "Todos os problemas desse notebook, são desafios do site <a href='http://rosalind.info/'>http://rosalind.info/</a>."
      ]
    },
    {
      "cell_type": "markdown",
      "metadata": {
        "id": "p2NOz026ULNQ"
      },
      "source": [
        "##Why Python?\n",
        "\n",
        "Problem\n",
        "\n",
        "After downloading and installing Python, type import this into the Python command line and see what happens. Then, click the \"Download dataset\" button below and copy the Zen of Python into the space provided."
      ]
    },
    {
      "cell_type": "code",
      "metadata": {
        "colab": {
          "base_uri": "https://localhost:8080/"
        },
        "id": "QrVv-UIVMFdN",
        "outputId": "c634e294-52d1-4bc1-d538-bea772aee7b9"
      },
      "source": [
        "import this"
      ],
      "execution_count": 1,
      "outputs": [
        {
          "output_type": "stream",
          "text": [
            "The Zen of Python, by Tim Peters\n",
            "\n",
            "Beautiful is better than ugly.\n",
            "Explicit is better than implicit.\n",
            "Simple is better than complex.\n",
            "Complex is better than complicated.\n",
            "Flat is better than nested.\n",
            "Sparse is better than dense.\n",
            "Readability counts.\n",
            "Special cases aren't special enough to break the rules.\n",
            "Although practicality beats purity.\n",
            "Errors should never pass silently.\n",
            "Unless explicitly silenced.\n",
            "In the face of ambiguity, refuse the temptation to guess.\n",
            "There should be one-- and preferably only one --obvious way to do it.\n",
            "Although that way may not be obvious at first unless you're Dutch.\n",
            "Now is better than never.\n",
            "Although never is often better than *right* now.\n",
            "If the implementation is hard to explain, it's a bad idea.\n",
            "If the implementation is easy to explain, it may be a good idea.\n",
            "Namespaces are one honking great idea -- let's do more of those!\n"
          ],
          "name": "stdout"
        }
      ]
    },
    {
      "cell_type": "markdown",
      "metadata": {
        "id": "aOGrz2toTzFn"
      },
      "source": [
        "##Variables and Some Arithmetic\n",
        "\n",
        "Problem\n",
        "Given: Two positive integers a and b, each less than 1000.\n",
        "\n",
        "Return: The integer corresponding to the square of the hypotenuse of the right triangle whose legs have lengths a and b.\n",
        "\n",
        "Notes:\n",
        "\n",
        "The dataset changes every time you click \"Download dataset\".\n",
        "We check only your final answer to the downloaded dataset in the box below, not your code itself. If you would like to provide your code as well, you may use the upload tool. Please also note that the correct answer to this problem will not in general be 34; it is simply an example of what you should return in the specific case that the legs of the triangle have length 3 and 5.\n",
        "Sample Dataset\n",
        "3 5\n",
        "Sample Output\n",
        "34"
      ]
    },
    {
      "cell_type": "code",
      "metadata": {
        "colab": {
          "base_uri": "https://localhost:8080/"
        },
        "id": "sRtpWj2eNYoJ",
        "outputId": "5ef740fe-9739-4da4-b77d-941b57ac2dc7"
      },
      "source": [
        "def quadrado_hipotenussa(a, b):\n",
        "  return a**2 + b**2\n",
        "\n",
        "quadrado_hipotenussa(942, 924)"
      ],
      "execution_count": 3,
      "outputs": [
        {
          "output_type": "execute_result",
          "data": {
            "text/plain": [
              "1741140"
            ]
          },
          "metadata": {
            "tags": []
          },
          "execution_count": 3
        }
      ]
    },
    {
      "cell_type": "markdown",
      "metadata": {
        "id": "BxY6Rv8ETodn"
      },
      "source": [
        "##Strings and lists\n",
        "\n",
        "Problem\n",
        "\n",
        "Given: A string s of length at most 200 letters and four integers a, b, c and d.\n",
        "\n",
        "Return: The slice of this string from indices a through b and c through d (with space in between), inclusively. In other words, we should include elements s[b] and s[d] in our slice.\n",
        "\n",
        "Sample Dataset\n",
        "\n",
        "HumptyDumptysatonawallHumptyDumptyhadagreatfallAlltheKingshorsesandalltheKingsmenCouldntputHumptyDumptyinhisplaceagain.\n",
        "\n",
        "22 27 97 102\n",
        "\n",
        "Sample Output\n",
        "\n",
        "Humpty Dumpty"
      ]
    },
    {
      "cell_type": "code",
      "metadata": {
        "colab": {
          "base_uri": "https://localhost:8080/"
        },
        "id": "p_WOlGoyNdSK",
        "outputId": "8280c973-2168-4638-921d-149f3f533a98"
      },
      "source": [
        "s = 'HumptyDumptysatonawallHumptyDumptyhadagreatfallAlltheKingshorsesandalltheKingsmenCouldntputHumptyDumptyinhisplaceagain.'\n",
        "a=22 \n",
        "b=27 \n",
        "c=97 \n",
        "d=102\n",
        "\n",
        "def slice_s(s, a, b, c, d):\n",
        "  return f'{s[a:b+1]} {s[c:d+1]}'\n",
        "\n",
        "print(slice_s(s, a, b, c, d))\n",
        "\n",
        "s = 'Dj6PZU6DohrrHuH9EQgq9n2W6XgWtQNEp4UP9MBzpF8ynA0J10aeRzwljql5zPwoTv2RfONipponia09LKaHOqZtYIYpPFtZlK2HdOigNHgrfPOFXnQBMGc363pqPlFMBipyTdJ5b8DjVtu2UWDzZ7gQHE2YI5EEmCstellatumRI8V7H8LE'\n",
        "a=70\n",
        "b=77\n",
        "c=162\n",
        "d=170\n",
        "print(slice_s(s, a, b, c, d))"
      ],
      "execution_count": 11,
      "outputs": [
        {
          "output_type": "stream",
          "text": [
            "Humpty Dumpty\n",
            "Nipponia stellatum\n"
          ],
          "name": "stdout"
        }
      ]
    },
    {
      "cell_type": "markdown",
      "metadata": {
        "id": "GEarxWFWTaeQ"
      },
      "source": [
        "##Conditions and Loops\n",
        "\n",
        "Problem\n",
        "\n",
        "Given: Two positive integers a and b (a<b<10000).\n",
        "\n",
        "Return: The sum of all odd integers from a through b, inclusively.\n",
        "\n",
        "Sample Dataset\n",
        "\n",
        "100 200\n",
        "\n",
        "Sample Output\n",
        "\n",
        "7500"
      ]
    },
    {
      "cell_type": "code",
      "metadata": {
        "colab": {
          "base_uri": "https://localhost:8080/"
        },
        "id": "K_0fmw5cQY-Z",
        "outputId": "3c3e8b9b-749f-474f-a809-692f2a948997"
      },
      "source": [
        "a = 100\n",
        "b = 200\n",
        "def soma_primos_dois(a, b):\n",
        "  return sum(list(range(a+1 if a%2==0 else a, b+1, 2)))\n",
        "\n",
        "print(soma_primos_dois(a, b))\n",
        "print(soma_primos_dois(4775, 9033))\n",
        " "
      ],
      "execution_count": 26,
      "outputs": [
        {
          "output_type": "stream",
          "text": [
            "7500\n",
            "14705520\n"
          ],
          "name": "stdout"
        }
      ]
    },
    {
      "cell_type": "markdown",
      "metadata": {
        "id": "NvmS9qYBWVQe"
      },
      "source": [
        "##Reading and Writing\n",
        "\n",
        "Problem\n",
        "\n",
        "Given: A file containing at most 1000 lines.\n",
        "\n",
        "Return: A file containing all the even-numbered lines from the original file. Assume 1-based numbering of lines.\n",
        "\n",
        "Sample Dataset\n",
        "\n",
        "Bravely bold Sir Robin rode forth from Camelot\n",
        "Yes, brave Sir Robin turned about\n",
        "He was not afraid to die, O brave Sir Robin\n",
        "And gallantly he chickened out\n",
        "He was not at all afraid to be killed in nasty ways\n",
        "Bravely talking to his feet\n",
        "Brave, brave, brave, brave Sir Robin\n",
        "He beat a very brave retreat\n",
        "\n",
        "Sample Output\n",
        "\n",
        "Yes, brave Sir Robin turned about\n",
        "And gallantly he chickened out\n",
        "Bravely talking to his feet\n",
        "He beat a very brave retreat"
      ]
    },
    {
      "cell_type": "code",
      "metadata": {
        "colab": {
          "base_uri": "https://localhost:8080/"
        },
        "id": "qEOAeEHNXV1e",
        "outputId": "d0bc7f17-2294-431a-bad5-d5dfbadb4f89"
      },
      "source": [
        "def linhas_pares(path_arquivo):\n",
        "  ii = 1\n",
        "  with open(path_arquivo, \"r\") as f:  \n",
        "    for num, linha in enumerate(f):\n",
        "      if (num+1) % 2 == 0:\n",
        "        print(linha.strip())\n",
        "\n",
        "linhas_pares('rosalind_ini5.txt')"
      ],
      "execution_count": 77,
      "outputs": [
        {
          "output_type": "stream",
          "text": [
            "Some things in life are bad, they can really make you mad\n",
            "Other things just make you swear and curse\n",
            "When you're chewing on life's gristle, don't grumble give a whistle\n",
            "This will help things turn out for the best\n",
            "Always look on the bright side of life\n",
            "Always look on the right side of life\n",
            "If life seems jolly rotten, there's something you've forgotten\n",
            "And that's to laugh and smile and dance and sing\n",
            "When you're feeling in the dumps, don't be silly, chumps\n",
            "Just purse your lips and whistle, that's the thing\n",
            "So, always look on the bright side of death\n",
            "Just before you draw your terminal breath\n",
            "Life's a counterfeit and when you look at it\n",
            "Life's a laugh and death's the joke, it's true\n",
            "You see, it's all a show, keep them laughing as you go\n",
            "Just remember the last laugh is on you\n",
            "Always look on the bright side of life\n",
            "And always look on the right side of life\n",
            "Always look on the bright side of life\n",
            "And always look on the right side of life\n"
          ],
          "name": "stdout"
        }
      ]
    },
    {
      "cell_type": "markdown",
      "metadata": {
        "id": "xD1tSweNgxVs"
      },
      "source": [
        "##Intro to Python dictionary\n",
        "\n",
        "Problem\n",
        "\n",
        "Given: A string s of length at most 10000 letters.\n",
        "\n",
        "Return: The number of occurrences of each word in s, where words are separated by spaces. Words are case-sensitive, and the lines in the output can be in any order.\n",
        "\n",
        "Sample Dataset\n",
        "\n",
        "We tried list and we tried dicts also we tried Zen\n",
        "\n",
        "Sample Output\n",
        "\n",
        "and 1\n",
        "We 1\n",
        "tried 3\n",
        "dicts 1\n",
        "list 1\n",
        "we 2\n",
        "also 1\n",
        "Zen 1"
      ]
    },
    {
      "cell_type": "code",
      "metadata": {
        "colab": {
          "base_uri": "https://localhost:8080/"
        },
        "id": "gIAmPQv7beQD",
        "outputId": "05860d5f-0b1b-4106-ffbd-2d49b3cc3f6a"
      },
      "source": [
        "from collections import Counter\n",
        "s = 'We tried list and we tried dicts also we tried Zen'\n",
        "\n",
        "def conta_palavras(s):\n",
        "  for c, v in Counter(s.split()).items():\n",
        "    print(c, v)\n",
        "\n",
        "#conta_palavras(s)\n",
        "\n",
        "s1 = 'When I find myself in times of trouble Mother Mary comes to me Speaking words of wisdom let it be And in my hour of darkness she is standing right in front of me Speaking words of wisdom let it be Let it be let it be let it be let it be Whisper words of wisdom let it be And when the broken hearted people living in the world agree There will be an answer let it be For though they may be parted there is still a chance that they will see There will be an answer let it be Let it be let it be let it be let it be There will be an answer let it be Let it be let it be let it be let it be Whisper words of wisdom let it be Let it be let it be let it be let it be Whisper words of wisdom let it be And when the night is cloudy there is still a light that shines on me Shine until tomorrow let it be I wake up to the sound of music Mother Mary comes to me Speaking words of wisdom let it be Let it be let it be let it be yeah let it be There will be an answer let it be Let it be let it be let it be yeah let it be Whisper words of wisdom let it be'\n",
        "conta_palavras(s1)\n"
      ],
      "execution_count": 93,
      "outputs": [
        {
          "output_type": "stream",
          "text": [
            "When 1\n",
            "I 2\n",
            "find 1\n",
            "myself 1\n",
            "in 4\n",
            "times 1\n",
            "of 11\n",
            "trouble 1\n",
            "Mother 2\n",
            "Mary 2\n",
            "comes 2\n",
            "to 3\n",
            "me 4\n",
            "Speaking 3\n",
            "words 7\n",
            "wisdom 7\n",
            "let 30\n",
            "it 36\n",
            "be 41\n",
            "And 3\n",
            "my 1\n",
            "hour 1\n",
            "darkness 1\n",
            "she 1\n",
            "is 4\n",
            "standing 1\n",
            "right 1\n",
            "front 1\n",
            "Let 6\n",
            "Whisper 4\n",
            "when 2\n",
            "the 4\n",
            "broken 1\n",
            "hearted 1\n",
            "people 1\n",
            "living 1\n",
            "world 1\n",
            "agree 1\n",
            "There 4\n",
            "will 5\n",
            "an 4\n",
            "answer 4\n",
            "For 1\n",
            "though 1\n",
            "they 2\n",
            "may 1\n",
            "parted 1\n",
            "there 2\n",
            "still 2\n",
            "a 2\n",
            "chance 1\n",
            "that 2\n",
            "see 1\n",
            "night 1\n",
            "cloudy 1\n",
            "light 1\n",
            "shines 1\n",
            "on 1\n",
            "Shine 1\n",
            "until 1\n",
            "tomorrow 1\n",
            "wake 1\n",
            "up 1\n",
            "sound 1\n",
            "music 1\n",
            "yeah 2\n"
          ],
          "name": "stdout"
        }
      ]
    }
  ]
}